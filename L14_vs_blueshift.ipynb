{
 "cells": [
  {
   "cell_type": "markdown",
   "id": "attached-strand",
   "metadata": {},
   "source": [
    "Make a simple plot of radio luminosity vs blueshift for our own sake."
   ]
  },
  {
   "cell_type": "code",
   "execution_count": 1,
   "id": "adult-internship",
   "metadata": {},
   "outputs": [],
   "source": [
    "import matplotlib.pyplot as plt\n",
    "import pandas as pd\n",
    "import numpy as np\n",
    "from astropy.cosmology import FlatLambdaCDM"
   ]
  },
  {
   "cell_type": "code",
   "execution_count": 2,
   "id": "packed-stamp",
   "metadata": {},
   "outputs": [],
   "source": [
    "cosmo = FlatLambdaCDM(H0=70, Om0=0.3)\n",
    "\n",
    "def radluminosity(nu1, nu2, S, alpha, z):\n",
    "    #calculate luminosity at nu1 based on flux at nu2\n",
    "    DL = 3.086e24*cosmo.luminosity_distance(z).value\n",
    "    L = ((4*np.pi*DL**2*(S*1e-23*1e-6)) / ((1+z)**(1+alpha))) * (nu1/nu2)**alpha * 1e-7\n",
    "    return np.log10(L)"
   ]
  },
  {
   "cell_type": "code",
   "execution_count": 3,
   "id": "tender-tribe",
   "metadata": {},
   "outputs": [
    {
     "data": {
      "text/html": [
       "<div>\n",
       "<style scoped>\n",
       "    .dataframe tbody tr th:only-of-type {\n",
       "        vertical-align: middle;\n",
       "    }\n",
       "\n",
       "    .dataframe tbody tr th {\n",
       "        vertical-align: top;\n",
       "    }\n",
       "\n",
       "    .dataframe thead th {\n",
       "        text-align: right;\n",
       "    }\n",
       "</style>\n",
       "<table border=\"1\" class=\"dataframe\">\n",
       "  <thead>\n",
       "    <tr style=\"text-align: right;\">\n",
       "      <th></th>\n",
       "      <th>Unnamed: 0</th>\n",
       "      <th>Unnamed: 0.1</th>\n",
       "      <th>Unnamed: 0.1.1</th>\n",
       "      <th>Unnamed: 0.1.1.1</th>\n",
       "      <th>Unnamed: 0.1.1.1.1</th>\n",
       "      <th>Unnamed: 0.1.1.1.1.1</th>\n",
       "      <th>Unnamed: 0.1.1.1.1.1.1</th>\n",
       "      <th>Unnamed: 0.1.1.1.1.1.1.1</th>\n",
       "      <th>Unnamed: 0.1.1.1.1.1.1.1.1</th>\n",
       "      <th>Unnamed: 0.1.1.1.1.1.1.1.1.1</th>\n",
       "      <th>...</th>\n",
       "      <th>ICA_CIV_EQW</th>\n",
       "      <th>ICA_CIV_EQW_new2021</th>\n",
       "      <th>RM_DIST_UNSCALE</th>\n",
       "      <th>RM_DIST_SCALE</th>\n",
       "      <th>CIV_BLUESHIFT_SCALED</th>\n",
       "      <th>CIV_EQW_SCALED</th>\n",
       "      <th>CIVBestfit_Index</th>\n",
       "      <th>L3GHz [W/Hz]</th>\n",
       "      <th>CIV_DIST_021721</th>\n",
       "      <th>CIV_DIST_041921</th>\n",
       "    </tr>\n",
       "  </thead>\n",
       "  <tbody>\n",
       "    <tr>\n",
       "      <th>0</th>\n",
       "      <td>0</td>\n",
       "      <td>0</td>\n",
       "      <td>0</td>\n",
       "      <td>0</td>\n",
       "      <td>0</td>\n",
       "      <td>0</td>\n",
       "      <td>0</td>\n",
       "      <td>0</td>\n",
       "      <td>0</td>\n",
       "      <td>0</td>\n",
       "      <td>...</td>\n",
       "      <td>101.160257</td>\n",
       "      <td>35.900650</td>\n",
       "      <td>1728.413701</td>\n",
       "      <td>3.486256</td>\n",
       "      <td>0.722760</td>\n",
       "      <td>-0.879689</td>\n",
       "      <td>275801.0</td>\n",
       "      <td>24.469498</td>\n",
       "      <td>3.506315</td>\n",
       "      <td>2.792875</td>\n",
       "    </tr>\n",
       "    <tr>\n",
       "      <th>1</th>\n",
       "      <td>1</td>\n",
       "      <td>1</td>\n",
       "      <td>1</td>\n",
       "      <td>1</td>\n",
       "      <td>1</td>\n",
       "      <td>1</td>\n",
       "      <td>1</td>\n",
       "      <td>1</td>\n",
       "      <td>1</td>\n",
       "      <td>1</td>\n",
       "      <td>...</td>\n",
       "      <td>95.079534</td>\n",
       "      <td>33.912371</td>\n",
       "      <td>414.691980</td>\n",
       "      <td>2.589969</td>\n",
       "      <td>-0.319656</td>\n",
       "      <td>-0.943523</td>\n",
       "      <td>238121.0</td>\n",
       "      <td>24.841584</td>\n",
       "      <td>2.618358</td>\n",
       "      <td>2.230519</td>\n",
       "    </tr>\n",
       "    <tr>\n",
       "      <th>2</th>\n",
       "      <td>2</td>\n",
       "      <td>2</td>\n",
       "      <td>2</td>\n",
       "      <td>2</td>\n",
       "      <td>2</td>\n",
       "      <td>2</td>\n",
       "      <td>2</td>\n",
       "      <td>2</td>\n",
       "      <td>2</td>\n",
       "      <td>2</td>\n",
       "      <td>...</td>\n",
       "      <td>97.289514</td>\n",
       "      <td>34.648832</td>\n",
       "      <td>646.782974</td>\n",
       "      <td>2.704445</td>\n",
       "      <td>-0.134167</td>\n",
       "      <td>-0.920323</td>\n",
       "      <td>244881.0</td>\n",
       "      <td>23.606351</td>\n",
       "      <td>2.734290</td>\n",
       "      <td>2.304035</td>\n",
       "    </tr>\n",
       "    <tr>\n",
       "      <th>3</th>\n",
       "      <td>3</td>\n",
       "      <td>3</td>\n",
       "      <td>3</td>\n",
       "      <td>3</td>\n",
       "      <td>3</td>\n",
       "      <td>3</td>\n",
       "      <td>3</td>\n",
       "      <td>3</td>\n",
       "      <td>3</td>\n",
       "      <td>3</td>\n",
       "      <td>...</td>\n",
       "      <td>122.740901</td>\n",
       "      <td>43.720855</td>\n",
       "      <td>796.239578</td>\n",
       "      <td>2.635625</td>\n",
       "      <td>-0.014596</td>\n",
       "      <td>-0.653142</td>\n",
       "      <td>240918.0</td>\n",
       "      <td>23.761645</td>\n",
       "      <td>2.685961</td>\n",
       "      <td>2.164442</td>\n",
       "    </tr>\n",
       "    <tr>\n",
       "      <th>4</th>\n",
       "      <td>4</td>\n",
       "      <td>4</td>\n",
       "      <td>4</td>\n",
       "      <td>4</td>\n",
       "      <td>4</td>\n",
       "      <td>4</td>\n",
       "      <td>4</td>\n",
       "      <td>4</td>\n",
       "      <td>4</td>\n",
       "      <td>4</td>\n",
       "      <td>...</td>\n",
       "      <td>102.881571</td>\n",
       "      <td>36.524054</td>\n",
       "      <td>1490.190560</td>\n",
       "      <td>3.289717</td>\n",
       "      <td>0.534205</td>\n",
       "      <td>-0.861619</td>\n",
       "      <td>269740.0</td>\n",
       "      <td>23.545828</td>\n",
       "      <td>3.312861</td>\n",
       "      <td>2.652129</td>\n",
       "    </tr>\n",
       "  </tbody>\n",
       "</table>\n",
       "<p>5 rows × 363 columns</p>\n",
       "</div>"
      ],
      "text/plain": [
       "   Unnamed: 0  Unnamed: 0.1  Unnamed: 0.1.1  Unnamed: 0.1.1.1  \\\n",
       "0           0             0               0                 0   \n",
       "1           1             1               1                 1   \n",
       "2           2             2               2                 2   \n",
       "3           3             3               3                 3   \n",
       "4           4             4               4                 4   \n",
       "\n",
       "   Unnamed: 0.1.1.1.1  Unnamed: 0.1.1.1.1.1  Unnamed: 0.1.1.1.1.1.1  \\\n",
       "0                   0                     0                       0   \n",
       "1                   1                     1                       1   \n",
       "2                   2                     2                       2   \n",
       "3                   3                     3                       3   \n",
       "4                   4                     4                       4   \n",
       "\n",
       "   Unnamed: 0.1.1.1.1.1.1.1  Unnamed: 0.1.1.1.1.1.1.1.1  \\\n",
       "0                         0                           0   \n",
       "1                         1                           1   \n",
       "2                         2                           2   \n",
       "3                         3                           3   \n",
       "4                         4                           4   \n",
       "\n",
       "   Unnamed: 0.1.1.1.1.1.1.1.1.1  ...  ICA_CIV_EQW  ICA_CIV_EQW_new2021  \\\n",
       "0                             0  ...   101.160257            35.900650   \n",
       "1                             1  ...    95.079534            33.912371   \n",
       "2                             2  ...    97.289514            34.648832   \n",
       "3                             3  ...   122.740901            43.720855   \n",
       "4                             4  ...   102.881571            36.524054   \n",
       "\n",
       "  RM_DIST_UNSCALE  RM_DIST_SCALE  CIV_BLUESHIFT_SCALED  CIV_EQW_SCALED  \\\n",
       "0     1728.413701       3.486256              0.722760       -0.879689   \n",
       "1      414.691980       2.589969             -0.319656       -0.943523   \n",
       "2      646.782974       2.704445             -0.134167       -0.920323   \n",
       "3      796.239578       2.635625             -0.014596       -0.653142   \n",
       "4     1490.190560       3.289717              0.534205       -0.861619   \n",
       "\n",
       "   CIVBestfit_Index  L3GHz [W/Hz]  CIV_DIST_021721  CIV_DIST_041921  \n",
       "0          275801.0     24.469498         3.506315         2.792875  \n",
       "1          238121.0     24.841584         2.618358         2.230519  \n",
       "2          244881.0     23.606351         2.734290         2.304035  \n",
       "3          240918.0     23.761645         2.685961         2.164442  \n",
       "4          269740.0     23.545828         3.312861         2.652129  \n",
       "\n",
       "[5 rows x 363 columns]"
      ]
     },
     "execution_count": 3,
     "metadata": {},
     "output_type": "execute_result"
    }
   ],
   "source": [
    "vla = pd.read_csv(\"SpringFinalFigs_moreParams.csv\")\n",
    "vla.head()"
   ]
  },
  {
   "cell_type": "code",
   "execution_count": 4,
   "id": "strong-charm",
   "metadata": {},
   "outputs": [],
   "source": [
    "ew_vla   = vla[[\"ICA_CIV_EQW_new2021\"]].values.flatten()\n",
    "voff_vla = vla[[\"ICA_CIV_BLUESHIFT\"]].values.flatten()\n",
    "\n",
    "z_vla = vla[[\"redshift_1\"]].values.flatten()\n",
    "S3 = vla[[\"int_flux\"]].values.flatten()\n",
    "L14_vla = radluminosity(1.4, 3., S3, -0.7, z_vla)\n",
    "det_vla = (vla[[\"detection\"]].values.flatten()==1)\n",
    "D_vla = vla[[\"detection\"]].values.flatten() + vla[['FIRST']].values.astype(\"int\").flatten()\n",
    "Mi_vla = vla[[\"MI_Z2_1\"]].values.flatten()\n",
    "\n",
    "#Eq 4 from QLF paper Richards+2006; subtract 7 to convert erg/s to Watts\n",
    "d = 3.08e19 # 10pc in cm\n",
    "logL2500_vla = -0.4 * (Mi_vla + 48.6 + 2.5*np.log10(1.+2.)) + np.log10(4.*np.pi*d**2.) - 7.\n",
    "\n",
    "R_vla = (10.**L14_vla)/(10.**logL2500_vla)\n",
    "logR_vla = np.log10(R_vla)\n",
    "\n",
    "RL_vla = (logR_vla>1)"
   ]
  },
  {
   "cell_type": "code",
   "execution_count": 5,
   "id": "artistic-russia",
   "metadata": {},
   "outputs": [
    {
     "data": {
      "text/html": [
       "<div>\n",
       "<style scoped>\n",
       "    .dataframe tbody tr th:only-of-type {\n",
       "        vertical-align: middle;\n",
       "    }\n",
       "\n",
       "    .dataframe tbody tr th {\n",
       "        vertical-align: top;\n",
       "    }\n",
       "\n",
       "    .dataframe thead th {\n",
       "        text-align: right;\n",
       "    }\n",
       "</style>\n",
       "<table border=\"1\" class=\"dataframe\">\n",
       "  <thead>\n",
       "    <tr style=\"text-align: right;\">\n",
       "      <th></th>\n",
       "      <th>col1</th>\n",
       "      <th>name</th>\n",
       "      <th>RA_1</th>\n",
       "      <th>Dec_1</th>\n",
       "      <th>Source_Name</th>\n",
       "      <th>RA_2</th>\n",
       "      <th>E_RA</th>\n",
       "      <th>E_RA_tot</th>\n",
       "      <th>DEC_2</th>\n",
       "      <th>E_DEC</th>\n",
       "      <th>...</th>\n",
       "      <th>E_DC_Min</th>\n",
       "      <th>PA</th>\n",
       "      <th>E_PA</th>\n",
       "      <th>DC_PA</th>\n",
       "      <th>E_DC_PA</th>\n",
       "      <th>Isl_rms</th>\n",
       "      <th>S_Code</th>\n",
       "      <th>Mosaic_ID</th>\n",
       "      <th>Isl_id</th>\n",
       "      <th>Separation</th>\n",
       "    </tr>\n",
       "  </thead>\n",
       "  <tbody>\n",
       "    <tr>\n",
       "      <th>15</th>\n",
       "      <td>2206</td>\n",
       "      <td>105245.64+463831.2</td>\n",
       "      <td>163.190206</td>\n",
       "      <td>46.642011</td>\n",
       "      <td>ILTJ105245.70+463830.7</td>\n",
       "      <td>163.190427</td>\n",
       "      <td>0.362932</td>\n",
       "      <td>0.375567</td>\n",
       "      <td>46.641878</td>\n",
       "      <td>0.244608</td>\n",
       "      <td>...</td>\n",
       "      <td>0.540513</td>\n",
       "      <td>106.081950</td>\n",
       "      <td>17.744264</td>\n",
       "      <td>106.081950</td>\n",
       "      <td>17.744264</td>\n",
       "      <td>0.066047</td>\n",
       "      <td>S</td>\n",
       "      <td>P3Hetdex16</td>\n",
       "      <td>5113</td>\n",
       "      <td>0.727160</td>\n",
       "    </tr>\n",
       "    <tr>\n",
       "      <th>3</th>\n",
       "      <td>1830</td>\n",
       "      <td>110039.04+510902.3</td>\n",
       "      <td>165.162686</td>\n",
       "      <td>51.150642</td>\n",
       "      <td>ILTJ110039.05+510902.2</td>\n",
       "      <td>165.162688</td>\n",
       "      <td>0.136256</td>\n",
       "      <td>0.156984</td>\n",
       "      <td>51.150616</td>\n",
       "      <td>0.144476</td>\n",
       "      <td>...</td>\n",
       "      <td>0.317960</td>\n",
       "      <td>20.380242</td>\n",
       "      <td>55.903120</td>\n",
       "      <td>20.380242</td>\n",
       "      <td>55.903120</td>\n",
       "      <td>0.067429</td>\n",
       "      <td>S</td>\n",
       "      <td>P4Hetdex16</td>\n",
       "      <td>2296</td>\n",
       "      <td>0.093947</td>\n",
       "    </tr>\n",
       "    <tr>\n",
       "      <th>16</th>\n",
       "      <td>2208</td>\n",
       "      <td>110429.51+481637.7</td>\n",
       "      <td>166.122993</td>\n",
       "      <td>48.277147</td>\n",
       "      <td>ILTJ110429.52+481638.0</td>\n",
       "      <td>166.123006</td>\n",
       "      <td>0.435098</td>\n",
       "      <td>0.477744</td>\n",
       "      <td>48.277241</td>\n",
       "      <td>0.259278</td>\n",
       "      <td>...</td>\n",
       "      <td>0.608496</td>\n",
       "      <td>93.276007</td>\n",
       "      <td>21.126713</td>\n",
       "      <td>0.000000</td>\n",
       "      <td>21.126713</td>\n",
       "      <td>0.054989</td>\n",
       "      <td>S</td>\n",
       "      <td>P6</td>\n",
       "      <td>2649</td>\n",
       "      <td>0.341448</td>\n",
       "    </tr>\n",
       "    <tr>\n",
       "      <th>4</th>\n",
       "      <td>1832</td>\n",
       "      <td>110853.98+522337.9</td>\n",
       "      <td>167.224924</td>\n",
       "      <td>52.393875</td>\n",
       "      <td>ILTJ110853.96+522337.6</td>\n",
       "      <td>167.224854</td>\n",
       "      <td>0.486835</td>\n",
       "      <td>0.516670</td>\n",
       "      <td>52.393796</td>\n",
       "      <td>0.299093</td>\n",
       "      <td>...</td>\n",
       "      <td>0.700402</td>\n",
       "      <td>84.536970</td>\n",
       "      <td>24.364421</td>\n",
       "      <td>0.000000</td>\n",
       "      <td>24.364421</td>\n",
       "      <td>0.075898</td>\n",
       "      <td>S</td>\n",
       "      <td>P8Hetdex</td>\n",
       "      <td>4605</td>\n",
       "      <td>0.324757</td>\n",
       "    </tr>\n",
       "    <tr>\n",
       "      <th>116</th>\n",
       "      <td>8286</td>\n",
       "      <td>111026.20+502403.6</td>\n",
       "      <td>167.609208</td>\n",
       "      <td>50.401021</td>\n",
       "      <td>ILTJ111026.21+502403.8</td>\n",
       "      <td>167.609224</td>\n",
       "      <td>0.490326</td>\n",
       "      <td>0.528534</td>\n",
       "      <td>50.401070</td>\n",
       "      <td>0.292486</td>\n",
       "      <td>...</td>\n",
       "      <td>0.683511</td>\n",
       "      <td>96.225524</td>\n",
       "      <td>27.350117</td>\n",
       "      <td>0.000000</td>\n",
       "      <td>27.350117</td>\n",
       "      <td>0.062552</td>\n",
       "      <td>S</td>\n",
       "      <td>P6</td>\n",
       "      <td>734</td>\n",
       "      <td>0.181365</td>\n",
       "    </tr>\n",
       "  </tbody>\n",
       "</table>\n",
       "<p>5 rows × 34 columns</p>\n",
       "</div>"
      ],
      "text/plain": [
       "     col1                name        RA_1      Dec_1             Source_Name  \\\n",
       "15   2206  105245.64+463831.2  163.190206  46.642011  ILTJ105245.70+463830.7   \n",
       "3    1830  110039.04+510902.3  165.162686  51.150642  ILTJ110039.05+510902.2   \n",
       "16   2208  110429.51+481637.7  166.122993  48.277147  ILTJ110429.52+481638.0   \n",
       "4    1832  110853.98+522337.9  167.224924  52.393875  ILTJ110853.96+522337.6   \n",
       "116  8286  111026.20+502403.6  167.609208  50.401021  ILTJ111026.21+502403.8   \n",
       "\n",
       "           RA_2      E_RA  E_RA_tot      DEC_2     E_DEC  ...  E_DC_Min  \\\n",
       "15   163.190427  0.362932  0.375567  46.641878  0.244608  ...  0.540513   \n",
       "3    165.162688  0.136256  0.156984  51.150616  0.144476  ...  0.317960   \n",
       "16   166.123006  0.435098  0.477744  48.277241  0.259278  ...  0.608496   \n",
       "4    167.224854  0.486835  0.516670  52.393796  0.299093  ...  0.700402   \n",
       "116  167.609224  0.490326  0.528534  50.401070  0.292486  ...  0.683511   \n",
       "\n",
       "             PA       E_PA       DC_PA    E_DC_PA   Isl_rms  S_Code  \\\n",
       "15   106.081950  17.744264  106.081950  17.744264  0.066047       S   \n",
       "3     20.380242  55.903120   20.380242  55.903120  0.067429       S   \n",
       "16    93.276007  21.126713    0.000000  21.126713  0.054989       S   \n",
       "4     84.536970  24.364421    0.000000  24.364421  0.075898       S   \n",
       "116   96.225524  27.350117    0.000000  27.350117  0.062552       S   \n",
       "\n",
       "      Mosaic_ID  Isl_id  Separation  \n",
       "15   P3Hetdex16    5113    0.727160  \n",
       "3    P4Hetdex16    2296    0.093947  \n",
       "16           P6    2649    0.341448  \n",
       "4      P8Hetdex    4605    0.324757  \n",
       "116          P6     734    0.181365  \n",
       "\n",
       "[5 rows x 34 columns]"
      ]
     },
     "execution_count": 5,
     "metadata": {},
     "output_type": "execute_result"
    }
   ],
   "source": [
    "lofar = pd.read_csv(\"LOFAR/LOFAR_from8403colorselected_all388_CIV.csv\")\n",
    "lofar.sort_values(\"name\", inplace=True)\n",
    "GOOD = lofar[[\"good\"]].values.flatten()\n",
    "lofar_det = pd.read_csv(\"LOFAR/LOFAR_from8403colorselected_detections123_1arcsec.csv\")\n",
    "lofar_det.sort_values(\"name\", inplace=True)\n",
    "lofar_det.head()"
   ]
  },
  {
   "cell_type": "code",
   "execution_count": 6,
   "id": "controversial-passage",
   "metadata": {},
   "outputs": [],
   "source": [
    "#Create a mask for all detections\n",
    "name = lofar[[\"name\"]].values.flatten() #can use this to pick out detections from Amy's file\n",
    "name_det = lofar_det[[\"name\"]].values.flatten()\n",
    "D_lofar = np.array([])\n",
    "for i in range(len(name)):\n",
    "    if (name[i]==name_det).any():\n",
    "        D_lofar = np.append(D_lofar, True)\n",
    "    else:\n",
    "        D_lofar = np.append(D_lofar, False)\n",
    "\n",
    "det_lofar = (D_lofar==1.)"
   ]
  },
  {
   "cell_type": "code",
   "execution_count": 7,
   "id": "fixed-dominican",
   "metadata": {},
   "outputs": [],
   "source": [
    "S144 = 210.*np.ones(len(lofar)) #initialize all objects to non-detections\n",
    "S144[det_lofar] = lofar_det[[\"Total_flux\"]].values.flatten() * 1.e3\n",
    "z_lofar = lofar[[\"z_paul\"]].values.flatten()\n",
    "L14_lofar = radluminosity(1.4, 0.144, S144, -0.7, z_lofar)\n",
    "ew_lofar = lofar[[\"CIV_EW\"]].values.flatten()\n",
    "voff_lofar = lofar[[\"CIV_blue\"]].values.flatten()\n",
    "good = (GOOD&(ew_lofar<120)) #don't want to include obj far from distribution in CIV distance calculation\n",
    "Mi_lofar = lofar[[\"MI_Z2\"]].values.flatten()\n",
    "\n",
    "#Eq 4 from QLF paper Richards+2006; subtract 7 to convert erg/s to Watts\n",
    "d = 3.08e19 # 10pc in cm\n",
    "logL2500_lofar = -0.4 * (Mi_lofar + 48.6 + 2.5*np.log10(1.+2.)) + np.log10(4.*np.pi*d**2.) - 7.\n",
    "\n",
    "R_lofar = (10.**L14_lofar)/(10.**logL2500_lofar)\n",
    "logR_lofar = np.log10(R_lofar)\n",
    "\n",
    "RL_lofar = (logR_lofar>1)"
   ]
  },
  {
   "cell_type": "code",
   "execution_count": 8,
   "id": "general-scotland",
   "metadata": {},
   "outputs": [],
   "source": [
    "voff = np.concatenate((voff_vla, voff_lofar))\n",
    "ew   = np.concatenate((ew_vla, ew_lofar))\n",
    "L14  = np.concatenate((L14_vla, L14_lofar))\n",
    "RQ   = np.concatenate((~RL_vla, ~RL_lofar))\n",
    "det  = np.concatenate((det_vla, det_lofar))"
   ]
  },
  {
   "cell_type": "markdown",
   "id": "greek-astrology",
   "metadata": {},
   "source": [
    "Let's first just see the most basic plot possible: all sources together."
   ]
  },
  {
   "cell_type": "code",
   "execution_count": 9,
   "id": "lonely-branch",
   "metadata": {},
   "outputs": [
    {
     "data": {
      "image/png": "[encoded data removed]",
      "text/plain": [
       "<Figure size 648x648 with 1 Axes>"
      ]
     },
     "metadata": {
      "needs_background": "light"
     },
     "output_type": "display_data"
    }
   ],
   "source": [
    "fig = plt.figure(figsize=(9,9))\n",
    "\n",
    "plt.scatter(voff, L14, color=\"k\")\n",
    "plt.ylabel(\"log $L_\\mathrm{1.4GHz}$ (W\\,Hz$^{-1}$)\")\n",
    "plt.xlabel(\"C$_\\mathrm{IV}$ Blueshift (km\\,s$^{-1}$)\")\n",
    "plt.xlim(-1725, plt.gca().get_xlim()[1])\n",
    "plt.show()"
   ]
  },
  {
   "cell_type": "markdown",
   "id": "little-klein",
   "metadata": {},
   "source": [
    "Any difference between LOFAR/VLA data?"
   ]
  },
  {
   "cell_type": "code",
   "execution_count": 10,
   "id": "featured-finding",
   "metadata": {},
   "outputs": [
    {
     "data": {
      "image/png": "[encoded data removed]",
      "text/plain": [
       "<Figure size 648x648 with 1 Axes>"
      ]
     },
     "metadata": {
      "needs_background": "light"
     },
     "output_type": "display_data"
    }
   ],
   "source": [
    "fig = plt.figure(figsize=(9,9))\n",
    "\n",
    "plt.scatter(voff_vla, L14_vla, color=\"k\", label=\"VLA\")\n",
    "plt.scatter(voff_lofar, L14_lofar, color=\"r\", label=\"LOFAR\")\n",
    "plt.ylabel(\"log $L_\\mathrm{1.4GHz}$ (W\\,Hz$^{-1}$)\")\n",
    "plt.xlabel(\"C$_\\mathrm{IV}$ Blueshift (km\\,s$^{-1}$)\")\n",
    "plt.xlim(-1725, plt.gca().get_xlim()[1])\n",
    "plt.show()"
   ]
  },
  {
   "cell_type": "markdown",
   "id": "coated-connection",
   "metadata": {},
   "source": [
    "No?  at least no big difference."
   ]
  },
  {
   "cell_type": "markdown",
   "id": "accurate-austin",
   "metadata": {},
   "source": [
    "Now just look at the RQ sources"
   ]
  },
  {
   "cell_type": "code",
   "execution_count": 11,
   "id": "massive-patrick",
   "metadata": {},
   "outputs": [],
   "source": [
    "voffRQ = voff[RQ]\n",
    "L14RQ  = L14[RQ]"
   ]
  },
  {
   "cell_type": "code",
   "execution_count": 12,
   "id": "fitted-procurement",
   "metadata": {},
   "outputs": [
    {
     "data": {
      "image/png": "[encoded data removed]",
      "text/plain": [
       "<Figure size 648x648 with 1 Axes>"
      ]
     },
     "metadata": {
      "needs_background": "light"
     },
     "output_type": "display_data"
    }
   ],
   "source": [
    "fig = plt.figure(figsize=(9,9))\n",
    "\n",
    "plt.scatter(voffRQ, L14RQ, color=\"k\")\n",
    "plt.ylabel(\"log $L_\\mathrm{1.4GHz}$ (W Hz$^{-1}$)\")\n",
    "plt.xlabel(\"C$_\\mathrm{IV}$ Blueshift (km s$^{-1}$)\")\n",
    "plt.xlim(-1725, plt.gca().get_xlim()[1])\n",
    "plt.show()"
   ]
  },
  {
   "cell_type": "markdown",
   "id": "traditional-xerox",
   "metadata": {},
   "source": [
    "Last visualization I want to do: if the UV/X-ray anticorrelation means different origins of radio emission, there might be tighter correlations with radio in different parts of the paramter space.  That is, radio emission might be more dependent on CIV blueshift at large CIV distances."
   ]
  },
  {
   "cell_type": "code",
   "execution_count": 13,
   "id": "passing-freedom",
   "metadata": {},
   "outputs": [],
   "source": [
    "vla_dist = vla[\"CIV_DIST_041921\"] \n",
    "lof_dist = lofar[\"CIV_DIST_041921\"]\n",
    "CIVdist  = np.concatenate((vla_dist, lof_dist))\n",
    "lowCIV   = (CIVdist<2.0)\n",
    "midCIV   = (CIVdist>=2.0)&(CIVdist<=3.2)\n",
    "highCIV  = (CIVdist>3.2)"
   ]
  },
  {
   "cell_type": "code",
   "execution_count": 14,
   "id": "guided-graph",
   "metadata": {},
   "outputs": [
    {
     "data": {
      "image/png": "[encoded data removed]",
      "text/plain": [
       "<Figure size 648x648 with 1 Axes>"
      ]
     },
     "metadata": {
      "needs_background": "light"
     },
     "output_type": "display_data"
    }
   ],
   "source": [
    "fig = plt.figure(figsize=(9,9))\n",
    "\n",
    "plt.scatter(voff[RQ&lowCIV&det], L14[RQ&lowCIV&det], color=\"k\", label=\"low C$_\\mathrm{IV}$ distance\")\n",
    "plt.errorbar(voff[RQ&lowCIV&(~det)], L14[RQ&lowCIV&(~det)], color=\"k\", fmt=\"o\", \n",
    "             yerr=0.05, uplims=True, elinewidth=2.5, capthick=3)\n",
    "\n",
    "plt.scatter(voff[RQ&midCIV&det], L14[RQ&midCIV&det], color=\"b\", label=\"moderate C$_\\mathrm{IV}$ distance\")\n",
    "plt.errorbar(voff[RQ&midCIV&(~det)], L14[RQ&midCIV&(~det)], color=\"b\", fmt=\"o\", \n",
    "             yerr=0.05, uplims=True, elinewidth=2.5, capthick=3)\n",
    "\n",
    "plt.scatter(voff[RQ&highCIV&det], L14[RQ&highCIV&det], color=\"r\", label=\"high C$_\\mathrm{IV}$ distance\")\n",
    "plt.errorbar(voff[RQ&highCIV&(~det)], L14[RQ&highCIV&(~det)], color=\"r\", fmt=\"o\", \n",
    "             yerr=0.05, uplims=True, elinewidth=2.5, capthick=3)\n",
    "\n",
    "plt.ylabel(\"log $L_\\mathrm{1.4GHz}$ (W Hz$^{-1}$)\")\n",
    "plt.xlabel(\"C$_\\mathrm{IV}$ Blueshift (km s$^{-1}$)\")\n",
    "plt.xlim(-1725, plt.gca().get_xlim()[1])\n",
    "plt.legend(loc=\"best\")\n",
    "plt.show()"
   ]
  },
  {
   "cell_type": "code",
   "execution_count": 15,
   "id": "indoor-disclaimer",
   "metadata": {},
   "outputs": [
    {
     "data": {
      "image/png": "[encoded data removed]",
      "text/plain": [
       "<Figure size 648x648 with 1 Axes>"
      ]
     },
     "metadata": {
      "needs_background": "light"
     },
     "output_type": "display_data"
    }
   ],
   "source": [
    "fig = plt.figure(figsize=(9,9))\n",
    "\n",
    "plt.scatter(voff[RQ&highCIV&det], L14[RQ&highCIV&det], color=\"r\", label=\"high C$_\\mathrm{IV}$ distance\")\n",
    "plt.errorbar(voff[RQ&highCIV&(~det)], L14[RQ&highCIV&(~det)], color=\"r\", fmt=\"o\", \n",
    "             yerr=0.05, uplims=True, elinewidth=2.5, capthick=3)\n",
    "\n",
    "plt.ylabel(\"log $L_\\mathrm{1.4GHz}$ (W Hz$^{-1}$)\")\n",
    "plt.xlabel(\"C$_\\mathrm{IV}$ Blueshift (km s$^{-1}$)\")\n",
    "#plt.xlim(-1725, plt.gca().get_xlim()[1])\n",
    "plt.legend(loc=\"best\")\n",
    "plt.show()"
   ]
  },
  {
   "cell_type": "code",
   "execution_count": null,
   "id": "reserved-concentration",
   "metadata": {},
   "outputs": [],
   "source": []
  }
 ],
 "metadata": {
  "kernelspec": {
   "display_name": "Python 3",
   "language": "python",
   "name": "python3"
  },
  "language_info": {
   "codemirror_mode": {
    "name": "ipython",
    "version": 3
   },
   "file_extension": ".py",
   "mimetype": "text/x-python",
   "name": "python",
   "nbconvert_exporter": "python",
   "pygments_lexer": "ipython3",
   "version": "3.6.12"
  }
 },
 "nbformat": 4,
 "nbformat_minor": 5
}
