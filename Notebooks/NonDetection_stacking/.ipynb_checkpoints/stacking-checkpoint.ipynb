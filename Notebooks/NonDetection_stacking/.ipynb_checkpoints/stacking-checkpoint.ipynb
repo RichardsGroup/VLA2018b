{
 "cells": [
  {
   "cell_type": "markdown",
   "metadata": {},
   "source": [
    "This notebook loads in arrays representing 'flux maps' of images of 27/28 of our non-detections and median stacks them to get an array representing the median stacked image of our non-detections\n",
    "\n",
    "----"
   ]
  },
  {
   "cell_type": "code",
   "execution_count": 1,
   "metadata": {},
   "outputs": [],
   "source": [
    "import numpy as np\n",
    "import os"
   ]
  },
  {
   "cell_type": "code",
   "execution_count": 2,
   "metadata": {},
   "outputs": [
    {
     "name": "stdout",
     "output_type": "stream",
     "text": [
      "61\n"
     ]
    }
   ],
   "source": [
    "array1 = np.load('arrays_of_images/2_J2158+0027_selfcal.ms.50uJy.image_arraytoStack.npy') #check dimensions of image arrays\n",
    "\n",
    "median_array = np.zeros(array1.shape) #empty array to fill with median values\n",
    "print(median_array.shape[1])"
   ]
  },
  {
   "cell_type": "code",
   "execution_count": 3,
   "metadata": {},
   "outputs": [
    {
     "name": "stdout",
     "output_type": "stream",
     "text": [
      "27\n"
     ]
    }
   ],
   "source": [
    "directory = 'arrays_of_images/'\n",
    "toBeStacked = [] #contains all image arrays - find median of each pixel\n",
    "\n",
    "\n",
    "for arrays in os.listdir(directory): #load up each saved array for each image\n",
    "    if arrays.endswith('.npy'): \n",
    "        array = np.load(directory+arrays)\n",
    "        toBeStacked.append(array)\n",
    "        continue\n",
    "    else:\n",
    "        continue\n",
    "\n",
    "print(len(toBeStacked))"
   ]
  },
  {
   "cell_type": "code",
   "execution_count": 4,
   "metadata": {},
   "outputs": [],
   "source": [
    "median = []\n",
    "for i in range(median_array.shape[0]):\n",
    "    for j in range(median_array.shape[1]):\n",
    "        for image in toBeStacked:\n",
    "            median.append(image[i,j]) #create list of given pixel flux value for *every* object\n",
    "        use_this_pixel = np.median(median) #take the median pixel to use in stacked image\n",
    "        median_array[i,j] = use_this_pixel #'place' pixel in stacked image\n",
    "        median = [] #empty list of pixels and move to the next pixel\n",
    "        \n",
    "        \n",
    "#print(median_array)  #show resulting median stacked array"
   ]
  },
  {
   "cell_type": "markdown",
   "metadata": {},
   "source": [
    "np.save('stacked_array', median_array)"
   ]
  }
 ],
 "metadata": {
  "kernelspec": {
   "display_name": "Python 3",
   "language": "python",
   "name": "python3"
  },
  "language_info": {
   "codemirror_mode": {
    "name": "ipython",
    "version": 3
   },
   "file_extension": ".py",
   "mimetype": "text/x-python",
   "name": "python",
   "nbconvert_exporter": "python",
   "pygments_lexer": "ipython3",
   "version": "3.6.4"
  }
 },
 "nbformat": 4,
 "nbformat_minor": 2
}
